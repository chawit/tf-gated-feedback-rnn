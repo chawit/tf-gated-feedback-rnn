{
 "cells": [
  {
   "cell_type": "markdown",
   "metadata": {},
   "source": [
    "This notebook shows how to use `GatedFeedbackLSTMRNNCell` along with `MultiGatedFeedbackRNNCell`. It essentially borrows the code from this blog: https://r2rt.com/recurrent-neural-networks-in-tensorflow-ii.html, which I have to make a few changes on to let it be compatible with the current Tensorflow version (r1.3)\n",
    "\n",
    "I have to also copy the ptb reader here from tensorflow/models, which has been split out from the core Tensorflow library."
   ]
  },
  {
   "cell_type": "code",
   "execution_count": 10,
   "metadata": {},
   "outputs": [
    {
     "name": "stdout",
     "output_type": "stream",
     "text": [
      "number of vocabs: 65\n",
      "length of data: 1115394\n"
     ]
    }
   ],
   "source": [
    "from __future__ import print_function, division\n",
    "import os\n",
    "import tensorflow as tf\n",
    "import numpy as np\n",
    "from six.moves import urllib, zip\n",
    "\n",
    "def ptb_producer(raw_data, batch_size, num_steps, name=None):\n",
    "  \"\"\"Iterate on the raw PTB data.\n",
    "  This chunks up raw_data into batches of examples and returns Tensors that\n",
    "  are drawn from these batches.\n",
    "  Args:\n",
    "    raw_data: one of the raw data outputs from ptb_raw_data.\n",
    "    batch_size: int, the batch size.\n",
    "    num_steps: int, the number of unrolls.\n",
    "    name: the name of this operation (optional).\n",
    "  Returns:\n",
    "    A pair of Tensors, each shaped [batch_size, num_steps]. The second element\n",
    "    of the tuple is the same data time-shifted to the right by one.\n",
    "  Raises:\n",
    "    tf.errors.InvalidArgumentError: if batch_size or num_steps are too high.\n",
    "  \"\"\"\n",
    "  with tf.name_scope(name, \"PTBProducer\", [raw_data, batch_size, num_steps]):\n",
    "    raw_data = tf.convert_to_tensor(raw_data, name=\"raw_data\", dtype=tf.int32)\n",
    "\n",
    "    data_len = tf.size(raw_data)\n",
    "    batch_len = data_len // batch_size\n",
    "    data = tf.reshape(raw_data[0 : batch_size * batch_len],\n",
    "                      [batch_size, batch_len])\n",
    "\n",
    "    epoch_size = (batch_len - 1) // num_steps\n",
    "    assertion = tf.assert_positive(\n",
    "        epoch_size,\n",
    "        message=\"epoch_size == 0, decrease batch_size or num_steps\")\n",
    "    with tf.control_dependencies([assertion]):\n",
    "      epoch_size = tf.identity(epoch_size, name=\"epoch_size\")\n",
    "\n",
    "    i = tf.train.range_input_producer(epoch_size, shuffle=False).dequeue()\n",
    "    x = tf.strided_slice(data, [0, i * num_steps],\n",
    "                         [batch_size, (i + 1) * num_steps])\n",
    "    x.set_shape([batch_size, num_steps])\n",
    "    y = tf.strided_slice(data, [0, i * num_steps + 1],\n",
    "                         [batch_size, (i + 1) * num_steps + 1])\n",
    "    y.set_shape([batch_size, num_steps])\n",
    "    return x, y\n",
    "\n",
    "file_url = 'https://raw.githubusercontent.com/jcjohnson/torch-rnn/master/data/tiny-shakespeare.txt'\n",
    "file_name = 'tinyshakespeare.txt'\n",
    "if not os.path.exists(file_name):\n",
    "    urllib.request.urlretrieve(file_url, file_name)\n",
    "    \n",
    "with open(file_name,'r') as f:\n",
    "    raw_data = f.read()\n",
    "\n",
    "vocab = set(raw_data)\n",
    "vocab_size = len(vocab)\n",
    "idx_to_vocab = dict(enumerate(vocab))\n",
    "vocab_to_idx = dict(zip(idx_to_vocab.values(), idx_to_vocab.keys()))\n",
    "\n",
    "data = [vocab_to_idx[c] for c in raw_data]\n",
    "del raw_data\n",
    "\n",
    "print('number of vocabs: {}'.format(len(vocab)))\n",
    "print('length of data: {}'.format(len(data)))"
   ]
  },
  {
   "cell_type": "code",
   "execution_count": 22,
   "metadata": {},
   "outputs": [
    {
     "name": "stdout",
     "output_type": "stream",
     "text": [
      "10/10 [==============================] - 10s - loss: 4.1716    \n",
      "\n",
      "running traditional lstm using static run took 66.7125449181 seconds\n"
     ]
    }
   ],
   "source": [
    "%run gfr.py\n",
    "\n",
    "from time import time\n",
    "\n",
    "def build_multi_lstm_graph_with_list(\n",
    "    state_size=100,\n",
    "    num_classes=vocab_size,\n",
    "    batch_size=32,\n",
    "    num_steps=200,\n",
    "    num_layers=3,\n",
    "    learning_rate=1e-4,\n",
    "    use_gfr=False,\n",
    "    use_dynamic_run=True):\n",
    "    x = tf.placeholder(tf.int32, [batch_size, num_steps], name='inputs_placeholder')\n",
    "    y = tf.placeholder(tf.int32, [batch_size, num_steps], name='labels_placeholder')\n",
    "    \n",
    "    embeddings = tf.get_variable('embeddings_matrix', shape=(num_classes, state_size), dtype=tf.float32)\n",
    "    rnn_inputs = tf.unstack(tf.transpose(tf.nn.embedding_lookup(embeddings, x), perm=(1,0,2))) \\\n",
    "            if not use_dynamic_run else tf.nn.embedding_lookup(embeddings, x)\n",
    "    cell = tf.nn.rnn_cell.LSTMCell(num_units=state_size, state_is_tuple=True) \\\n",
    "            if not use_gfr else lambda pos : GatedFeedbackLSTMCell(num_units=state_size, layer_pos=pos)\n",
    "    multi_cell = tf.nn.rnn_cell.MultiRNNCell([cell] * num_layers) \\\n",
    "            if not use_gfr else MultiGatedFeedbackRNNCell([cell(i) for i in range(num_layers)])\n",
    "    init_state = multi_cell.zero_state(batch_size, tf.float32)\n",
    "    rnn_outputs, final_state = tf.nn.static_rnn(multi_cell, rnn_inputs, initial_state=init_state) \\\n",
    "            if not use_dynamic_run else tf.nn.dynamic_rnn(multi_cell, rnn_inputs, initial_state=init_state)\n",
    "    stacked_rnn_outputs = tf.reshape(rnn_outputs, shape=(-1, state_size))\n",
    "    logits = tf.layers.dense(stacked_rnn_outputs, num_classes, activation=None, kernel_initializer=tf.variance_scaling_initializer(), name='softmax')\n",
    "    unstacked_logits = tf.reshape(logits, shape=(-1, num_steps, num_classes))\n",
    "    weights = tf.ones((batch_size, num_steps), dtype=tf.float32)\n",
    "    loss = tf.contrib.seq2seq.sequence_loss(unstacked_logits, y, weights)\n",
    "    training_op = tf.train.AdamOptimizer(learning_rate).minimize(loss)\n",
    "    return dict(\n",
    "        x=x,\n",
    "        y=y,\n",
    "        init_state=init_state,\n",
    "        final_state=final_state,\n",
    "        logits=unstacked_logits,\n",
    "        loss=loss,\n",
    "        training_op=training_op\n",
    "    )\n",
    "\n",
    "class Coordinator(object):\n",
    "    def __init__(self, session=None):\n",
    "        super(Coordinator, self).__init__()\n",
    "        self._session = tf.get_default_session() if session is not None else session\n",
    "        self._coord = None\n",
    "    def __enter__(self):\n",
    "        self._coord = tf.train.Coordinator()\n",
    "        tf.train.start_queue_runners(self._session, coord=self._coord)\n",
    "    def __exit__(self, *args):\n",
    "        self._coord.request_stop()\n",
    "        self._coord.join()\n",
    "        \n",
    "def train_rnn(g, num_epochs, num_steps=200, batch_size=32, verbose=True):\n",
    "    tf.set_random_seed(42)\n",
    "    X, Y = ptb_producer(data, batch_size, num_steps)\n",
    "    train_losses = []\n",
    "    with tf.Session() as sess, Coordinator():\n",
    "        sess.run(tf.global_variables_initializer())\n",
    "        prob_bar = tf.contrib.keras.utils.Progbar(num_epochs)\n",
    "        for epoch in range(num_epochs):\n",
    "            X_val, Y_val = sess.run([X, Y])\n",
    "            train_loss, _ = sess.run([g['loss'], g['training_op']], feed_dict={g['x']:X_val, g['y']:Y_val})\n",
    "            if verbose: prob_bar.update(epoch + 1, [('loss', train_loss)])\n",
    "            train_losses.append(train_loss)\n",
    "    return train_losses\n",
    "\n",
    "class Timed(object):\n",
    "    def __init__(self, title):\n",
    "        super(Timed, self).__init__()\n",
    "        self._title = title\n",
    "        self._time = None\n",
    "    def __enter__(self):\n",
    "        self._time = time()\n",
    "    def __exit__(self, *args):\n",
    "        print('\\nrunning {} took {} seconds'.format(self._title, time() - self._time))\n",
    "        \n",
    "tf.reset_default_graph()\n",
    "with Timed('traditional lstm using static run'), tf.Graph().as_default():\n",
    "    graph = build_multi_lstm_graph_with_list(use_gfr=False, use_dynamic_run=False)\n",
    "    train_rnn(graph, 10)    "
   ]
  },
  {
   "cell_type": "code",
   "execution_count": 24,
   "metadata": {},
   "outputs": [
    {
     "name": "stdout",
     "output_type": "stream",
     "text": [
      "10/10 [==============================] - 23s - loss: 4.1698    \n",
      "\n",
      "running gated feedback lstm using static run took 116.424118042 seconds\n"
     ]
    }
   ],
   "source": [
    "tf.reset_default_graph()\n",
    "with Timed('gated feedback lstm using static run'), tf.Graph().as_default():\n",
    "    graph = build_multi_lstm_graph_with_list(use_gfr=True, use_dynamic_run=False)\n",
    "    train_rnn(graph, 10)    "
   ]
  },
  {
   "cell_type": "code",
   "execution_count": 25,
   "metadata": {},
   "outputs": [
    {
     "name": "stdout",
     "output_type": "stream",
     "text": [
      "10/10 [==============================] - 7s - loss: 4.1696     \n",
      "\n",
      "running traditional lstm using dynamic rnn took 11.3640809059 seconds\n"
     ]
    }
   ],
   "source": [
    "tf.reset_default_graph()\n",
    "with Timed('traditional lstm using dynamic rnn'), tf.Graph().as_default():\n",
    "    graph = build_multi_lstm_graph_with_list(use_gfr=False, use_dynamic_run=True)\n",
    "    train_rnn(graph, 10)"
   ]
  },
  {
   "cell_type": "code",
   "execution_count": 26,
   "metadata": {},
   "outputs": [
    {
     "name": "stdout",
     "output_type": "stream",
     "text": [
      "10/10 [==============================] - 19s - loss: 4.1680    \n",
      "\n",
      "running gated feedback lstm using dynamic run took 24.0576920509 seconds\n"
     ]
    }
   ],
   "source": [
    "tf.reset_default_graph()\n",
    "with Timed('gated feedback lstm using dynamic run'), tf.Graph().as_default():\n",
    "    graph = build_multi_lstm_graph_with_list(use_gfr=True, use_dynamic_run=True)\n",
    "    train_rnn(graph, 10)"
   ]
  },
  {
   "cell_type": "code",
   "execution_count": null,
   "metadata": {
    "collapsed": true
   },
   "outputs": [],
   "source": []
  }
 ],
 "metadata": {
  "kernelspec": {
   "display_name": "Python 2",
   "language": "python",
   "name": "python2"
  },
  "language_info": {
   "codemirror_mode": {
    "name": "ipython",
    "version": 2
   },
   "file_extension": ".py",
   "mimetype": "text/x-python",
   "name": "python",
   "nbconvert_exporter": "python",
   "pygments_lexer": "ipython2",
   "version": "2.7.13"
  }
 },
 "nbformat": 4,
 "nbformat_minor": 2
}
